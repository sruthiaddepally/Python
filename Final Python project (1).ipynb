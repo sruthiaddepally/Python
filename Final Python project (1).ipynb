{
 "cells": [
  {
   "cell_type": "markdown",
   "id": "4ce98deb-b964-4e2a-9eef-2c25ac846c0a",
   "metadata": {},
   "source": [
    "Task 1: Creating DataFrames and Saving as CSV Files"
   ]
  },
  {
   "cell_type": "code",
   "execution_count": 2,
   "id": "0b3c35cc-6b27-4c0d-948c-8a28952ab826",
   "metadata": {},
   "outputs": [
    {
     "name": "stdout",
     "output_type": "stream",
     "text": [
      "Employee DataFrame:\n",
      "     ID             Name Gender     City  Age\n",
      "0  A001       John Alter      M    Paris   25\n",
      "1  A002  Alice Luxumberg      F   London   27\n",
      "2  A003    Tom Sabestine      M   Berlin   29\n",
      "3  A004       Nina Adgra      F  Newyork   31\n",
      "4  A005        Amy Johny      F   Madrid   30\n",
      "\n",
      "Seniority DataFrame:\n",
      "     ID  Designation Level\n",
      "0  A001                  2\n",
      "1  A002                  2\n",
      "2  A003                  3\n",
      "3  A004                  2\n",
      "4  A005                  3\n",
      "\n",
      "Project DataFrame:\n",
      "      ID     Project       Cost    Status\n",
      "0   A001   Project 1  1002000.0  Finished\n",
      "1   A002   Project 2  2000000.0   Ongoing\n",
      "2   A003   Project 3  4500000.0  Finished\n",
      "3   A004   Project 4  5500000.0   Ongoing\n",
      "4   A005   Project 5        NaN  Finished\n",
      "5   A002   Project 6   680000.0    Failed\n",
      "6   A005   Project 7   400000.0  Finished\n",
      "7   A003   Project 8   350000.0    Failed\n",
      "8   A001   Project 9        NaN   Ongoing\n",
      "9   A003  Project 10   300000.0  Finished\n",
      "10  A001  Project 11  2000000.0    Failed\n",
      "11  A004  Project 12  1000000.0   Ongoing\n",
      "12  A004  Project 13  3000000.0  Finished\n",
      "13  A005  Project 14   200000.0  Finished\n"
     ]
    }
   ],
   "source": [
    "import pandas as pd\n",
    "\n",
    "# Employee Data\n",
    "employee_data = {\n",
    "    \"ID\": [\"A001\", \"A002\", \"A003\", \"A004\", \"A005\"],\n",
    "    \"Name\": [\"John Alter\", \"Alice Luxumberg\", \"Tom Sabestine\", \"Nina Adgra\", \"Amy Johny\"],\n",
    "    \"Gender\": [\"M\", \"F\", \"M\", \"F\", \"F\"],\n",
    "    \"City\": [\"Paris\", \"London\", \"Berlin\", \"Newyork\", \"Madrid\"],\n",
    "    \"Age\": [25, 27, 29, 31, 30]\n",
    "}\n",
    "employee_df = pd.DataFrame(employee_data)\n",
    "employee_df.to_csv('Employee.csv', index=False)\n",
    "\n",
    "# Seniority Level Data\n",
    "seniority_data = {\n",
    "    \"ID\": [\"A001\", \"A002\", \"A003\", \"A004\", \"A005\"],\n",
    "    \"Designation Level\": [2, 2, 3, 2, 3]\n",
    "}\n",
    "seniority_df = pd.DataFrame(seniority_data)\n",
    "seniority_df.to_csv('Seniority.csv', index=False)\n",
    "\n",
    "# Project Data\n",
    "project_data = {\n",
    "    \"ID\": [\"A001\", \"A002\", \"A003\", \"A004\", \"A005\", \"A002\", \"A005\", \"A003\", \"A001\", \"A003\", \"A001\", \"A004\", \"A004\", \"A005\"],\n",
    "    \"Project\": [\"Project 1\", \"Project 2\", \"Project 3\", \"Project 4\", \"Project 5\", \"Project 6\", \"Project 7\", \n",
    "                \"Project 8\", \"Project 9\", \"Project 10\", \"Project 11\", \"Project 12\", \"Project 13\", \"Project 14\"],\n",
    "    \"Cost\": [1002000, 2000000, 4500000, 5500000, None, 680000, 400000, 350000, None, 300000, 2000000, \n",
    "             1000000, 3000000, 200000],\n",
    "    \"Status\": [\"Finished\", \"Ongoing\", \"Finished\", \"Ongoing\", \"Finished\", \"Failed\", \"Finished\", \"Failed\", \n",
    "               \"Ongoing\", \"Finished\", \"Failed\", \"Ongoing\", \"Finished\", \"Finished\"]\n",
    "}\n",
    "project_df = pd.DataFrame(project_data)\n",
    "project_df.to_csv('Project.csv', index=False)\n",
    "\n",
    "import pandas as pd\n",
    "\n",
    "# Load the Employee, Seniority, and Project data\n",
    "employee_df = pd.read_csv('Employee.csv')\n",
    "seniority_df = pd.read_csv('Seniority.csv')\n",
    "project_df = pd.read_csv('Project.csv')\n",
    "\n",
    "# Display the initial data\n",
    "print(\"Employee DataFrame:\")\n",
    "print(employee_df)\n",
    "print(\"\\nSeniority DataFrame:\")\n",
    "print(seniority_df)\n",
    "print(\"\\nProject DataFrame:\")\n",
    "print(project_df)\n",
    "\n"
   ]
  },
  {
   "cell_type": "markdown",
   "id": "1aeedef0-0ea4-4202-a902-c44ef4c4f84f",
   "metadata": {},
   "source": [
    "Task 2: Handling Missing Values in the 'Cost' Column"
   ]
  },
  {
   "cell_type": "code",
   "execution_count": 3,
   "id": "bc950c64-3d94-46b7-a08c-1f972dcebd4d",
   "metadata": {},
   "outputs": [
    {
     "name": "stdout",
     "output_type": "stream",
     "text": [
      "\n",
      "Updated Project DataFrame with Filled Cost:\n",
      "      ID     Project          Cost    Status\n",
      "0   A001   Project 1  1.002000e+06  Finished\n",
      "1   A002   Project 2  2.000000e+06   Ongoing\n",
      "2   A003   Project 3  4.500000e+06  Finished\n",
      "3   A004   Project 4  5.500000e+06   Ongoing\n",
      "4   A005   Project 5  3.250500e+06  Finished\n",
      "5   A002   Project 6  6.800000e+05    Failed\n",
      "6   A005   Project 7  4.000000e+05  Finished\n",
      "7   A003   Project 8  3.500000e+05    Failed\n",
      "8   A001   Project 9  2.061714e+06   Ongoing\n",
      "9   A003  Project 10  3.000000e+05  Finished\n",
      "10  A001  Project 11  2.000000e+06    Failed\n",
      "11  A004  Project 12  1.000000e+06   Ongoing\n",
      "12  A004  Project 13  3.000000e+06  Finished\n",
      "13  A005  Project 14  2.000000e+05  Finished\n"
     ]
    }
   ],
   "source": [
    "# Initialize running sum and count for calculating running average\n",
    "running_sum = 0\n",
    "count = 0\n",
    "\n",
    "# Fill missing values in 'Cost' column using a running average\n",
    "for i in range(len(project_df)):\n",
    "    if pd.notnull(project_df.loc[i, 'Cost']):\n",
    "        # If not NaN, add to running sum and increment count\n",
    "        running_sum += project_df.loc[i, 'Cost']\n",
    "        count += 1\n",
    "    else:\n",
    "        # If NaN, replace with the current running average\n",
    "        if count > 0:\n",
    "            project_df.loc[i, 'Cost'] = running_sum / count\n",
    "\n",
    "# Display the updated Project DataFrame\n",
    "print(\"\\nUpdated Project DataFrame with Filled Cost:\")\n",
    "print(project_df)\n"
   ]
  },
  {
   "cell_type": "markdown",
   "id": "6143c705-fecb-420e-86fc-67109f8772c0",
   "metadata": {},
   "source": [
    "Task 3: Splitting the 'Name' Column"
   ]
  },
  {
   "cell_type": "code",
   "execution_count": 13,
   "id": "5ef6610c-eb43-45d3-b8b3-d66e6749cee6",
   "metadata": {},
   "outputs": [
    {
     "name": "stdout",
     "output_type": "stream",
     "text": [
      "Data Types of Employee DataFrame:\n",
      " ID        object\n",
      "Name      object\n",
      "Gender    object\n",
      "City      object\n",
      "Age        int64\n",
      "dtype: object\n",
      "\n",
      "Contents of 'Name' column after conversion to strings:\n",
      " 0         John Alter\n",
      "1    Alice Luxumberg\n",
      "2      Tom Sabestine\n",
      "3         Nina Adgra\n",
      "4          Amy Johny\n",
      "Name: Name, dtype: object\n",
      "Error during split operation: StringMethods.split() takes from 1 to 2 positional arguments but 3 positional arguments (and 1 keyword-only argument) were given\n"
     ]
    }
   ],
   "source": [
    "# Step 1: Check the data types of the columns, especially the 'Name' column\n",
    "print(\"Data Types of Employee DataFrame:\\n\", employee_df.dtypes)\n",
    "\n",
    "# Step 2: Convert the 'Name' column to strings explicitly, handling non-string values\n",
    "employee_df['Name'] = employee_df['Name'].apply(lambda x: str(x) if not pd.isnull(x) else '')\n",
    "\n",
    "# Verify the contents after conversion\n",
    "print(\"\\nContents of 'Name' column after conversion to strings:\\n\", employee_df['Name'])\n",
    "\n",
    "# Step 3: Now split 'Name' into 'First Name' and 'Last Name'\n",
    "try:\n",
    "    employee_df[['First Name', 'Last Name']] = employee_df['Name'].str.split(' ', 1, expand=True)\n",
    "    # Drop the old 'Name' column\n",
    "    employee_df.drop(columns=['Name'], inplace=True)\n",
    "    print(\"\\nUpdated Employee DataFrame with Split Names:\")\n",
    "    print(employee_df)\n",
    "except Exception as e:\n",
    "    print(\"Error during split operation:\", e)\n"
   ]
  },
  {
   "cell_type": "code",
   "execution_count": null,
   "id": "9116cf9f-c83a-4db3-a448-9e79e6cf0427",
   "metadata": {},
   "outputs": [],
   "source": [
    "Task 4: Joining All DataFrames"
   ]
  },
  {
   "cell_type": "code",
   "execution_count": 7,
   "id": "f1221e75-fa1e-4efe-a64c-4a72134b3220",
   "metadata": {},
   "outputs": [
    {
     "name": "stdout",
     "output_type": "stream",
     "text": [
      "\n",
      "Final DataFrame after Joining:\n",
      "      ID             Name Gender     City  Age  Designation Level     Project  \\\n",
      "0   A001       John Alter      M    Paris   25                  2   Project 1   \n",
      "1   A001       John Alter      M    Paris   25                  2   Project 9   \n",
      "2   A001       John Alter      M    Paris   25                  2  Project 11   \n",
      "3   A002  Alice Luxumberg      F   London   27                  2   Project 2   \n",
      "4   A002  Alice Luxumberg      F   London   27                  2   Project 6   \n",
      "5   A003    Tom Sabestine      M   Berlin   29                  3   Project 3   \n",
      "6   A003    Tom Sabestine      M   Berlin   29                  3   Project 8   \n",
      "7   A003    Tom Sabestine      M   Berlin   29                  3  Project 10   \n",
      "8   A004       Nina Adgra      F  Newyork   31                  2   Project 4   \n",
      "9   A004       Nina Adgra      F  Newyork   31                  2  Project 12   \n",
      "10  A004       Nina Adgra      F  Newyork   31                  2  Project 13   \n",
      "11  A005        Amy Johny      F   Madrid   30                  3   Project 5   \n",
      "12  A005        Amy Johny      F   Madrid   30                  3   Project 7   \n",
      "13  A005        Amy Johny      F   Madrid   30                  3  Project 14   \n",
      "\n",
      "            Cost    Status  \n",
      "0   1.002000e+06  Finished  \n",
      "1   2.061714e+06   Ongoing  \n",
      "2   2.000000e+06    Failed  \n",
      "3   2.000000e+06   Ongoing  \n",
      "4   6.800000e+05    Failed  \n",
      "5   4.500000e+06  Finished  \n",
      "6   3.500000e+05    Failed  \n",
      "7   3.000000e+05  Finished  \n",
      "8   5.500000e+06   Ongoing  \n",
      "9   1.000000e+06   Ongoing  \n",
      "10  3.000000e+06  Finished  \n",
      "11  3.250500e+06  Finished  \n",
      "12  4.000000e+05  Finished  \n",
      "13  2.000000e+05  Finished  \n"
     ]
    }
   ],
   "source": [
    "# Merge employee and seniority data on 'ID'\n",
    "final_df = pd.merge(employee_df, seniority_df, on='ID')\n",
    "# Merge result with project data on 'ID'\n",
    "final_df = pd.merge(final_df, project_df, on='ID')\n",
    "\n",
    "# Display the Final DataFrame\n",
    "print(\"\\nFinal DataFrame after Joining:\")\n",
    "print(final_df)\n"
   ]
  },
  {
   "cell_type": "markdown",
   "id": "3d83a53b-0aa9-4dcc-a0a5-8b5d097be3e1",
   "metadata": {},
   "source": [
    "Task 5: Adding a Bonus Column"
   ]
  },
  {
   "cell_type": "code",
   "execution_count": 8,
   "id": "52916ed4-8732-444f-9bc0-9ea0b7d716b9",
   "metadata": {},
   "outputs": [
    {
     "name": "stdout",
     "output_type": "stream",
     "text": [
      "\n",
      "Final DataFrame with Bonus Column:\n",
      "      ID             Name Gender     City  Age  Designation Level     Project  \\\n",
      "0   A001       John Alter      M    Paris   25                  2   Project 1   \n",
      "1   A001       John Alter      M    Paris   25                  2   Project 9   \n",
      "2   A001       John Alter      M    Paris   25                  2  Project 11   \n",
      "3   A002  Alice Luxumberg      F   London   27                  2   Project 2   \n",
      "4   A002  Alice Luxumberg      F   London   27                  2   Project 6   \n",
      "5   A003    Tom Sabestine      M   Berlin   29                  3   Project 3   \n",
      "6   A003    Tom Sabestine      M   Berlin   29                  3   Project 8   \n",
      "7   A003    Tom Sabestine      M   Berlin   29                  3  Project 10   \n",
      "8   A004       Nina Adgra      F  Newyork   31                  2   Project 4   \n",
      "9   A004       Nina Adgra      F  Newyork   31                  2  Project 12   \n",
      "10  A004       Nina Adgra      F  Newyork   31                  2  Project 13   \n",
      "11  A005        Amy Johny      F   Madrid   30                  3   Project 5   \n",
      "12  A005        Amy Johny      F   Madrid   30                  3   Project 7   \n",
      "13  A005        Amy Johny      F   Madrid   30                  3  Project 14   \n",
      "\n",
      "            Cost    Status     Bonus  \n",
      "0   1.002000e+06  Finished   50100.0  \n",
      "1   2.061714e+06   Ongoing       0.0  \n",
      "2   2.000000e+06    Failed       0.0  \n",
      "3   2.000000e+06   Ongoing       0.0  \n",
      "4   6.800000e+05    Failed       0.0  \n",
      "5   4.500000e+06  Finished  225000.0  \n",
      "6   3.500000e+05    Failed       0.0  \n",
      "7   3.000000e+05  Finished   15000.0  \n",
      "8   5.500000e+06   Ongoing       0.0  \n",
      "9   1.000000e+06   Ongoing       0.0  \n",
      "10  3.000000e+06  Finished  150000.0  \n",
      "11  3.250500e+06  Finished  162525.0  \n",
      "12  4.000000e+05  Finished   20000.0  \n",
      "13  2.000000e+05  Finished   10000.0  \n"
     ]
    }
   ],
   "source": [
    "# Add 'Bonus' column with 5% of project cost for finished projects\n",
    "final_df['Bonus'] = final_df.apply(lambda row: row['Cost'] * 0.05 if row['Status'] == 'Finished' else 0, axis=1)\n",
    "\n",
    "# Display the Final DataFrame with Bonus\n",
    "print(\"\\nFinal DataFrame with Bonus Column:\")\n",
    "print(final_df)\n"
   ]
  },
  {
   "cell_type": "markdown",
   "id": "964fe83e-32ba-47f1-bac8-b1cbd27c541c",
   "metadata": {},
   "source": [
    "Task 6: Demoting and Removing Records"
   ]
  },
  {
   "cell_type": "code",
   "execution_count": 9,
   "id": "636c1ea2-d5d0-4c6c-8075-2867923aadcb",
   "metadata": {},
   "outputs": [
    {
     "name": "stdout",
     "output_type": "stream",
     "text": [
      "\n",
      "Final DataFrame after Demotion and Deletion:\n",
      "      ID             Name Gender     City  Age  Designation Level     Project  \\\n",
      "0   A001       John Alter      M    Paris   25                  2   Project 1   \n",
      "1   A001       John Alter      M    Paris   25                  2   Project 9   \n",
      "2   A001       John Alter      M    Paris   25                  1  Project 11   \n",
      "3   A002  Alice Luxumberg      F   London   27                  2   Project 2   \n",
      "4   A002  Alice Luxumberg      F   London   27                  1   Project 6   \n",
      "5   A003    Tom Sabestine      M   Berlin   29                  3   Project 3   \n",
      "6   A003    Tom Sabestine      M   Berlin   29                  2   Project 8   \n",
      "7   A003    Tom Sabestine      M   Berlin   29                  3  Project 10   \n",
      "8   A004       Nina Adgra      F  Newyork   31                  2   Project 4   \n",
      "9   A004       Nina Adgra      F  Newyork   31                  2  Project 12   \n",
      "10  A004       Nina Adgra      F  Newyork   31                  2  Project 13   \n",
      "11  A005        Amy Johny      F   Madrid   30                  3   Project 5   \n",
      "12  A005        Amy Johny      F   Madrid   30                  3   Project 7   \n",
      "13  A005        Amy Johny      F   Madrid   30                  3  Project 14   \n",
      "\n",
      "            Cost    Status     Bonus  \n",
      "0   1.002000e+06  Finished   50100.0  \n",
      "1   2.061714e+06   Ongoing       0.0  \n",
      "2   2.000000e+06    Failed       0.0  \n",
      "3   2.000000e+06   Ongoing       0.0  \n",
      "4   6.800000e+05    Failed       0.0  \n",
      "5   4.500000e+06  Finished  225000.0  \n",
      "6   3.500000e+05    Failed       0.0  \n",
      "7   3.000000e+05  Finished   15000.0  \n",
      "8   5.500000e+06   Ongoing       0.0  \n",
      "9   1.000000e+06   Ongoing       0.0  \n",
      "10  3.000000e+06  Finished  150000.0  \n",
      "11  3.250500e+06  Finished  162525.0  \n",
      "12  4.000000e+05  Finished   20000.0  \n",
      "13  2.000000e+05  Finished   10000.0  \n"
     ]
    }
   ],
   "source": [
    "# Demote designation by 1 level for failed projects\n",
    "final_df.loc[final_df['Status'] == 'Failed', 'Designation Level'] -= 1\n",
    "\n",
    "# Remove rows where 'Designation Level' exceeds 4\n",
    "final_df = final_df[final_df['Designation Level'] <= 4]\n",
    "\n",
    "# Display the Final DataFrame after Demotion and Deletion\n",
    "print(\"\\nFinal DataFrame after Demotion and Deletion:\")\n",
    "print(final_df)\n"
   ]
  },
  {
   "cell_type": "markdown",
   "id": "d8caf151-5643-4535-84d3-425ddf552c33",
   "metadata": {},
   "source": [
    "Task 7: Adding Titles and Dropping Gender"
   ]
  },
  {
   "cell_type": "code",
   "execution_count": null,
   "id": "3ba24b4e-0a5e-48a6-a12f-e789480f17dd",
   "metadata": {},
   "outputs": [],
   "source": [
    "# Add 'Mr.' or 'Mrs.' based on gender in 'First Name'\n",
    "final_df['First Name'] = final_df.apply(lambda row: ('Mr. ' if row['Gender'] == 'M' else 'Mrs. ') + row['First Name'], axis=1)\n",
    "\n",
    "# Drop the 'Gender' column\n",
    "final_df.drop(columns=['Gender'], inplace=True)\n",
    "\n",
    "# Display the Final DataFrame after Adding Titles\n",
    "print(\"\\nFinal DataFrame with Titles Added and Gender Dropped:\")\n",
    "print(final_df)\n"
   ]
  },
  {
   "cell_type": "markdown",
   "id": "3b9240b5-1936-4d2f-8335-a4246ae6c2cc",
   "metadata": {},
   "source": [
    "Task 8: Promoting Based on Age"
   ]
  },
  {
   "cell_type": "code",
   "execution_count": 11,
   "id": "ce3f6912-5661-4536-82ab-4a3c97135561",
   "metadata": {},
   "outputs": [
    {
     "name": "stdout",
     "output_type": "stream",
     "text": [
      "\n",
      "Final DataFrame after Promotion for Age > 29:\n",
      "      ID             Name Gender     City  Age  Designation Level     Project  \\\n",
      "0   A001       John Alter      M    Paris   25                  2   Project 1   \n",
      "1   A001       John Alter      M    Paris   25                  2   Project 9   \n",
      "2   A001       John Alter      M    Paris   25                  1  Project 11   \n",
      "3   A002  Alice Luxumberg      F   London   27                  2   Project 2   \n",
      "4   A002  Alice Luxumberg      F   London   27                  1   Project 6   \n",
      "5   A003    Tom Sabestine      M   Berlin   29                  3   Project 3   \n",
      "6   A003    Tom Sabestine      M   Berlin   29                  2   Project 8   \n",
      "7   A003    Tom Sabestine      M   Berlin   29                  3  Project 10   \n",
      "8   A004       Nina Adgra      F  Newyork   31                  3   Project 4   \n",
      "9   A004       Nina Adgra      F  Newyork   31                  3  Project 12   \n",
      "10  A004       Nina Adgra      F  Newyork   31                  3  Project 13   \n",
      "11  A005        Amy Johny      F   Madrid   30                  4   Project 5   \n",
      "12  A005        Amy Johny      F   Madrid   30                  4   Project 7   \n",
      "13  A005        Amy Johny      F   Madrid   30                  4  Project 14   \n",
      "\n",
      "            Cost    Status     Bonus  \n",
      "0   1.002000e+06  Finished   50100.0  \n",
      "1   2.061714e+06   Ongoing       0.0  \n",
      "2   2.000000e+06    Failed       0.0  \n",
      "3   2.000000e+06   Ongoing       0.0  \n",
      "4   6.800000e+05    Failed       0.0  \n",
      "5   4.500000e+06  Finished  225000.0  \n",
      "6   3.500000e+05    Failed       0.0  \n",
      "7   3.000000e+05  Finished   15000.0  \n",
      "8   5.500000e+06   Ongoing       0.0  \n",
      "9   1.000000e+06   Ongoing       0.0  \n",
      "10  3.000000e+06  Finished  150000.0  \n",
      "11  3.250500e+06  Finished  162525.0  \n",
      "12  4.000000e+05  Finished   20000.0  \n",
      "13  2.000000e+05  Finished   10000.0  \n"
     ]
    }
   ],
   "source": [
    "# Increase 'Designation Level' by 1 for employees with age > 29\n",
    "final_df.loc[final_df['Age'] > 29, 'Designation Level'] += 1\n",
    "\n",
    "# Display the Final DataFrame after Promotion\n",
    "print(\"\\nFinal DataFrame after Promotion for Age > 29:\")\n",
    "print(final_df)\n"
   ]
  },
  {
   "cell_type": "markdown",
   "id": "0692a129-f98f-4e97-add0-f6a5171ee8a2",
   "metadata": {},
   "source": [
    "Task 9: Calculating Total Project Cost"
   ]
  },
  {
   "cell_type": "code",
   "execution_count": null,
   "id": "64787031-5096-46ff-b29c-c97009be1c79",
   "metadata": {},
   "outputs": [],
   "source": [
    "# Group by 'ID' and 'First Name' to sum up the 'Cost' column\n",
    "total_proj_cost = final_df.groupby(['ID', 'First Name'])['Cost'].sum().reset_index()\n",
    "\n",
    "# Rename columns for clarity\n",
    "total_proj_cost.columns = ['ID', 'First Name', 'Total Cost']\n",
    "\n",
    "# Save as new DataFrame \"TotalProjCost\"\n",
    "total_proj_cost.to_csv('TotalProjCost.csv', index=False)\n",
    "\n",
    "# Display Total Project Cost DataFrame\n",
    "print(\"\\nTotal Project Cost DataFrame:\")\n",
    "print(total_proj_cost)\n"
   ]
  },
  {
   "cell_type": "markdown",
   "id": "43beab1a-9437-4af8-bf58-bc287d1cc716",
   "metadata": {},
   "source": [
    "Task 10: Filtering by City"
   ]
  },
  {
   "cell_type": "code",
   "execution_count": null,
   "id": "9171951e-c75d-4bd4-8072-16a87fbbc1d4",
   "metadata": {},
   "outputs": [],
   "source": [
    "# Filter final_df for rows where 'City' contains the letter \"o\"\n",
    "employees_in_o_cities = final_df[final_df['City'].str.contains('o', case=False)]\n",
    "\n",
    "# Display the filtered DataFrame\n",
    "print(\"\\nEmployees in Cities Containing 'o':\")\n",
    "print(employees_in_o_cities)\n"
   ]
  }
 ],
 "metadata": {
  "kernelspec": {
   "display_name": "Python 3 (ipykernel)",
   "language": "python",
   "name": "python3"
  },
  "language_info": {
   "codemirror_mode": {
    "name": "ipython",
    "version": 3
   },
   "file_extension": ".py",
   "mimetype": "text/x-python",
   "name": "python",
   "nbconvert_exporter": "python",
   "pygments_lexer": "ipython3",
   "version": "3.12.7"
  }
 },
 "nbformat": 4,
 "nbformat_minor": 5
}
